{
  "cells": [
    {
      "cell_type": "code",
      "execution_count": 1,
      "metadata": {
        "id": "9_6dFdkHGZDH"
      },
      "outputs": [],
      "source": [
        "import torch\n",
        "from torch import nn, optim, tensor\n",
        "from torch.utils.data import DataLoader, Dataset\n",
        "import torchtext\n",
        "from torchtext.data.utils import get_tokenizer\n",
        "from torchtext.vocab import build_vocab_from_iterator, Vectors\n",
        "import pandas as pd\n",
        "import time\n",
        "import numpy as np\n",
        "import torch.nn.functional as TF\n",
        "import matplotlib.pyplot as plt\n",
        "import copy\n",
        "import json\n",
        "import random"
      ]
    },
    {
      "cell_type": "markdown",
      "metadata": {
        "id": "w-PeU4jiKUsl"
      },
      "source": [
        "## Load English & Chinese pretrained embedding from Tecent AI Lab"
      ]
    },
    {
      "cell_type": "code",
      "execution_count": 2,
      "metadata": {
        "colab": {
          "base_uri": "https://localhost:8080/"
        },
        "id": "kprOMoRxHi_a",
        "outputId": "94ecb317-41de-4379-9ebe-a7fc915cf2fd"
      },
      "outputs": [
        {
          "output_type": "stream",
          "name": "stdout",
          "text": [
            "Mounted at /content/drive\n"
          ]
        }
      ],
      "source": [
        "from google.colab import drive\n",
        "drive.mount('/content/drive')"
      ]
    },
    {
      "cell_type": "code",
      "execution_count": 3,
      "metadata": {
        "id": "ZFKHmIR1INmT"
      },
      "outputs": [],
      "source": [
        "# Load pretrained model from Tencent\n",
        "from gensim.models import KeyedVectors\n",
        "# 100-dim en file\n",
        "wv_from_text_en = KeyedVectors.load_word2vec_format(\"/content/drive/MyDrive/LING111 autoencoder/tencent-ailab-embedding-en-d100-v0.1.0-s\", binary=False)\n",
        "\n",
        "# 100-dim zh file\n",
        "wv_from_text_zh = KeyedVectors.load_word2vec_format(\"/content/drive/MyDrive/LING111 autoencoder/tencent-ailab-embedding-zh-d100-v0.2.0-s.txt\", binary=False)"
      ]
    },
    {
      "cell_type": "code",
      "execution_count": 4,
      "metadata": {
        "id": "YBuLiUzUKLgI",
        "colab": {
          "base_uri": "https://localhost:8080/"
        },
        "outputId": "9b7d69b7-3ca3-4700-e7b8-179b3983eb91"
      },
      "outputs": [
        {
          "output_type": "stream",
          "name": "stdout",
          "text": [
            "The first 10 words in the vocabulary are: ['</s>', '，', ',', '的', '。', '、', '了', '：', '“', '”']\n",
            "The index for the Chinese word '的' is: 3\n"
          ]
        }
      ],
      "source": [
        "# Define Chinese inputs for the model\n",
        "\n",
        "# vocab_zh contains all the Chinese words in the dataset\n",
        "vocab_zh      = wv_from_text_zh.index_to_key\n",
        "vocab_size_zh = len(vocab_zh)\n",
        "print(\"The first 10 words in the vocabulary are:\", vocab_zh[:10])\n",
        "\n",
        "# word_to_index is the map between Chinese words and its indeces {'的'：3}\n",
        "word_to_index_zh = wv_from_text_zh.key_to_index\n",
        "print(\"The index for the Chinese word '的' is:\", word_to_index_zh['的'])"
      ]
    },
    {
      "cell_type": "code",
      "execution_count": 5,
      "metadata": {
        "id": "n3y2GXcXKrT1",
        "colab": {
          "base_uri": "https://localhost:8080/"
        },
        "outputId": "dd03c65d-4b07-40d3-bbac-5871e6008961"
      },
      "outputs": [
        {
          "output_type": "stream",
          "name": "stdout",
          "text": [
            "The first 10 words in the vocabulary are: ['%2c', '.', '%22', 'and', 'of', '%3a', 'a', 'in', '/', '%29']\n",
            "The index for the English word 'cannot' is: 1202\n"
          ]
        }
      ],
      "source": [
        "# Define English inputs for the model\n",
        "\n",
        "# vocab_en contains all the English words in the dataset\n",
        "vocab_en      = wv_from_text_en.index_to_key\n",
        "vocab_size_en = len(vocab_en)\n",
        "print(\"The first 10 words in the vocabulary are:\", vocab_en[:10])\n",
        "\n",
        "# word_to_index is the map between English words and its indeces {'yes'：3}\n",
        "word_to_index_en = wv_from_text_en.key_to_index\n",
        "print(\"The index for the English word 'cannot' is:\", word_to_index_en[\"cannot\"])"
      ]
    },
    {
      "cell_type": "markdown",
      "metadata": {
        "id": "9qvV_FMo842f"
      },
      "source": [
        "## Load Golden Set"
      ]
    },
    {
      "cell_type": "code",
      "execution_count": 6,
      "metadata": {
        "id": "3EYK0iGN_t4u",
        "colab": {
          "base_uri": "https://localhost:8080/"
        },
        "outputId": "823ca8fa-7707-494b-cf91-3c19d2253703"
      },
      "outputs": [
        {
          "output_type": "stream",
          "name": "stdout",
          "text": [
            "Chinese translation for universal is 普遍\n"
          ]
        }
      ],
      "source": [
        "# Load the golden set\n",
        "with open(\"/content/drive/MyDrive/LING111 autoencoder/full_golden_set.json\", encoding=\"utf-8-sig\") as in_file:\n",
        "  # returns JSON object as a dictionary\n",
        "    golden_set = json.load(in_file)\n",
        "\n",
        "# Closing file\n",
        "in_file.close()\n",
        "\n",
        "word = \"universal\"\n",
        "print(\"Chinese translation for {} is {}\".format(word, golden_set[word][0]))\n",
        "\n",
        "en_vocab = golden_set.keys()"
      ]
    },
    {
      "cell_type": "code",
      "execution_count": 7,
      "metadata": {
        "id": "b91QIGEIHuV6",
        "colab": {
          "base_uri": "https://localhost:8080/"
        },
        "outputId": "dfa632ad-17f0-4fff-e154-66f7b867b2d5"
      },
      "outputs": [
        {
          "output_type": "stream",
          "name": "stdout",
          "text": [
            "There are 8063 unique English words in our golden set\n"
          ]
        }
      ],
      "source": [
        "# en_vocab_list is list of unique English words in golden set\n",
        "gold_en_list = list(golden_set.keys())\n",
        "\n",
        "# length of English vocabulary\n",
        "gold_en_size = len(gold_en_list)\n",
        "print(\"There are\", gold_en_size, \"unique English words in our golden set\")"
      ]
    },
    {
      "cell_type": "markdown",
      "metadata": {
        "id": "kW8YfhOcKrdy"
      },
      "source": [
        "## Data Preprocessing"
      ]
    },
    {
      "cell_type": "code",
      "execution_count": 8,
      "metadata": {
        "id": "FVGS3mtOR43B"
      },
      "outputs": [],
      "source": [
        "torch.manual_seed(4)\n",
        "np.random.seed(4)\n",
        "random.seed(4)"
      ]
    },
    {
      "cell_type": "code",
      "execution_count": 9,
      "metadata": {
        "id": "MwYidapPJsoU",
        "colab": {
          "base_uri": "https://localhost:8080/"
        },
        "outputId": "13b9ab52-9a80-450a-f51e-90449645e213"
      },
      "outputs": [
        {
          "output_type": "stream",
          "name": "stdout",
          "text": [
            "There are 6374 training data and 2125 testing data\n"
          ]
        }
      ],
      "source": [
        "# Define the training & testing data to pass for the custom dataset\n",
        "# train_data is in the form of a dictionary that contains\n",
        "# corresponding pair of English word (data) and Chinese\n",
        "# translation (label)\n",
        "# Last 15% of the dataset is testing data\n",
        "\n",
        "train_data = {}\n",
        "test_data  = {}\n",
        "en_list_train = []\n",
        "zh_list_train = []\n",
        "en_list_test = []\n",
        "zh_list_test = []\n",
        "en_list = []\n",
        "zh_list = []\n",
        "en_index_train = []\n",
        "zh_index_train = []\n",
        "en_index_test = []\n",
        "zh_index_test = []\n",
        "\n",
        "# Shuffle the data before splitting it into train & test samples\n",
        "random.shuffle(gold_en_list)\n",
        "\n",
        "# Make\n",
        "\n",
        "# Make copies of english words that have more than 1 Chinese translation\n",
        "for en in gold_en_list:\n",
        "    # en_list.append(en)\n",
        "    # zhs = []\n",
        "    for zh in golden_set[en]:\n",
        "      en_list.append(en)\n",
        "      zh_list.append(zh)\n",
        "    #     zhs.append(zh)\n",
        "    # zh_list.append(zhs)\n",
        "\n",
        "# Last 15% of data is allocated as testing samples\n",
        "cutoff = int(len(en_list) * 0.75)\n",
        "en_list_train = en_list[:cutoff]\n",
        "zh_list_train = zh_list[:cutoff]\n",
        "en_list_test  = en_list[cutoff:]\n",
        "zh_list_test  = zh_list[cutoff:]\n",
        "print(\"There are\", len(en_list_train), \"training data and\", len(en_list_test), \"testing data\")\n",
        "\n",
        "# The real training data are the words that exist in the Tecent AI dataset\n",
        "\n",
        "en_index_train = [(i, word_to_index_en[i]) for i, j in zip(en_list_train, zh_list_train) if i in word_to_index_en and j in word_to_index_zh]\n",
        "\n",
        "\n",
        "\n",
        "zh_index_train = [(i, word_to_index_zh[i]) for i, j in zip(zh_list_train, en_list_train) if i in word_to_index_zh and j in word_to_index_en]\n",
        "en_index_test = [(i, word_to_index_en[i]) for i, j in zip(en_list_test, zh_list_test) if i in word_to_index_en and j in word_to_index_zh]\n",
        "\n",
        "zh_index_test = [(i, word_to_index_zh[i]) for i, j in zip(zh_list_test, en_list_test) if i in word_to_index_zh and j in word_to_index_en]\n",
        "\n",
        "# train_engs = []\n",
        "# en_index_train = []\n",
        "# for en, zhs in zip(en_list_train, zh_list_train):\n",
        "#     indices = []\n",
        "#     count = 0\n",
        "#     for word in zhs:\n",
        "#         if en in word_to_index_en and word in word_to_index_zh:\n",
        "#             count += 1\n",
        "#     if count != 0:\n",
        "#         train_engs.append(en)\n",
        "#         en_index_train.append((en, word_to_index_en[en]))\n",
        "\n",
        "# zh_index_train = []\n",
        "# for zhs, en in zip(zh_list_train, en_list_train):\n",
        "#     indices = []\n",
        "#     for word in zhs:\n",
        "#         if word in word_to_index_zh and en in word_to_index_en:\n",
        "#             indices.append((word, word_to_index_zh[word]))\n",
        "#     if en in train_engs:\n",
        "#         zh_index_train.append(indices)\n",
        "\n",
        "# test_engs = []\n",
        "# en_index_test = []\n",
        "# for en, zhs in zip(en_list_test, zh_list_test):\n",
        "#     indices = []\n",
        "#     count = 0\n",
        "#     for word in zhs:\n",
        "#         if en in word_to_index_en and word in word_to_index_zh:\n",
        "#             count += 1\n",
        "#     if count != 0:\n",
        "#         test_engs.append(en)\n",
        "#         en_index_test.append((en, word_to_index_en[en]))\n",
        "\n",
        "# zh_index_test = []\n",
        "# for zhs, en in zip(zh_list_test, en_list_test):\n",
        "#     indices = []\n",
        "#     for word in zhs:\n",
        "#         if word in word_to_index_zh and en in word_to_index_en:\n",
        "#             indices.append((word, word_to_index_zh[word]))\n",
        "#     if en in test_engs:\n",
        "#         zh_index_test.append(indices)\n",
        "\n",
        "train_data[\"data\"]  = en_index_train\n",
        "train_data[\"label\"] = zh_index_train\n",
        "test_data[\"data\"]   = en_index_test\n",
        "test_data[\"label\"]  = zh_index_test"
      ]
    },
    {
      "cell_type": "code",
      "execution_count": 10,
      "metadata": {
        "id": "WgGQAP1xC70b",
        "colab": {
          "base_uri": "https://localhost:8080/"
        },
        "outputId": "d6ca6a49-32df-41f9-d19c-7d39dd807d63"
      },
      "outputs": [
        {
          "output_type": "stream",
          "name": "stdout",
          "text": [
            "There are 6188 training data present in the Tencent AI dataset\n",
            "There are 2048 testing data present in the Tencent AI dataset\n"
          ]
        }
      ],
      "source": [
        "print(\"There are {} training data present in the Tencent AI dataset\".format(len(train_data[\"data\"])))\n",
        "print(\"There are {} testing data present in the Tencent AI dataset\".format(len(test_data[\"data\"])))"
      ]
    },
    {
      "cell_type": "code",
      "execution_count": 11,
      "metadata": {
        "id": "-1ABDwtRDONp",
        "colab": {
          "base_uri": "https://localhost:8080/"
        },
        "outputId": "4a10228a-8b0a-4d6f-e06c-e5bf8aa05053"
      },
      "outputs": [
        {
          "output_type": "stream",
          "name": "stdout",
          "text": [
            "The number of training data and label is the same True\n",
            "The number of testing data and label is the same True\n"
          ]
        }
      ],
      "source": [
        "print(\"The number of training data and label is the same\", len(train_data[\"data\"]) == len(train_data[\"label\"]))\n",
        "print(\"The number of testing data and label is the same\", len(test_data[\"data\"]) == len(test_data[\"label\"]))"
      ]
    },
    {
      "cell_type": "code",
      "execution_count": 12,
      "metadata": {
        "id": "bDKhA7K1E5fY",
        "colab": {
          "base_uri": "https://localhost:8080/"
        },
        "outputId": "f8607822-0193-4cbc-fe0c-cab1609e60bb"
      },
      "outputs": [
        {
          "output_type": "execute_result",
          "data": {
            "text/plain": [
              "(('analytic', 44911), ('解析', 4224))"
            ]
          },
          "metadata": {},
          "execution_count": 12
        }
      ],
      "source": [
        "train_data[\"data\"][10], train_data[\"label\"][10]"
      ]
    },
    {
      "cell_type": "markdown",
      "metadata": {
        "id": "JpNZBD5EKzRk"
      },
      "source": [
        "## Custom Dataset"
      ]
    },
    {
      "cell_type": "code",
      "execution_count": 13,
      "metadata": {
        "id": "rRK20QtaN7ln"
      },
      "outputs": [],
      "source": [
        "# Define dataset to load to dataloader\n",
        "class TrainData(Dataset):\n",
        "\n",
        "    def __init__(self, data):\n",
        "        \"\"\"Loads the data from the pretrained model\"\"\"\n",
        "        self.data    = data\n",
        "        self.en_list = self.data[\"data\"]\n",
        "        self.zh_list = self.data[\"label\"]\n",
        "\n",
        "    def __getitem__(self, idx):\n",
        "        \"\"\"Returns the datapoint at a given index\"\"\"\n",
        "        en_index = self.en_list[idx][1]\n",
        "        zh_index = self.zh_list[idx][1]\n",
        "        sample = {\"en_index\": en_index, \"zh_index\": zh_index}\n",
        "        return sample\n",
        "\n",
        "    def __len__(self):\n",
        "        \"\"\"Returns the number of datapoints in the dataset\"\"\"\n",
        "        return len(self.data[\"data\"])"
      ]
    },
    {
      "cell_type": "code",
      "execution_count": 14,
      "metadata": {
        "id": "t__SJcYC-kmJ"
      },
      "outputs": [],
      "source": [
        "def collate_batch(batch):\n",
        "    \"\"\"Converts a batch of data into packed PyTorch tensor format\n",
        "    \"\"\"\n",
        "    # Initialize lists that separate out the 3 components\n",
        "    en_index_list  = list()\n",
        "    zh_index_list  = list()\n",
        "\n",
        "    for pair in batch:\n",
        "        en_index = pair[\"en_index\"]\n",
        "        zh_index = pair[\"zh_index\"]\n",
        "        # Convert to PyTorch format\n",
        "        # Add converted data to separate component lists\n",
        "        en_index_list.append(en_index)\n",
        "        zh_index_list.append(zh_index)\n",
        "\n",
        "    # Convert to mini-batch tensors\n",
        "    en_index_tensor = torch.tensor(en_index_list).to(torch.int64)\n",
        "    zh_index_tensor = torch.tensor(zh_index_list).to(torch.int64)\n",
        "\n",
        "    return (en_index_tensor, zh_index_tensor)"
      ]
    },
    {
      "cell_type": "code",
      "execution_count": 15,
      "metadata": {
        "id": "or-3iU-GN99W"
      },
      "outputs": [],
      "source": [
        "batch_size = 128\n",
        "training_data = TrainData(train_data)\n",
        "testing_data  = TrainData(test_data)\n",
        "train_dataloader = DataLoader(dataset=training_data,\n",
        "                              batch_size=batch_size,\n",
        "                              shuffle=True,\n",
        "                              collate_fn=collate_batch)\n",
        "test_dataloader  = DataLoader(dataset=testing_data,\n",
        "                              batch_size=batch_size,\n",
        "                              shuffle=True,\n",
        "                              collate_fn=collate_batch)"
      ]
    },
    {
      "cell_type": "code",
      "execution_count": 16,
      "metadata": {
        "id": "jRncFCQo5P9O",
        "colab": {
          "base_uri": "https://localhost:8080/"
        },
        "outputId": "04b177f5-427f-4618-ac7a-eda691d5cc85"
      },
      "outputs": [
        {
          "output_type": "execute_result",
          "data": {
            "text/plain": [
              "('compressed', '压缩')"
            ]
          },
          "metadata": {},
          "execution_count": 16
        }
      ],
      "source": [
        "next(iter(train_dataloader))\n",
        "vocab_en[17362], vocab_zh[9060]"
      ]
    },
    {
      "cell_type": "code",
      "execution_count": 17,
      "metadata": {
        "id": "5ZwEOPCJPg08"
      },
      "outputs": [],
      "source": [
        "import time\n",
        "import math\n",
        "\n",
        "def timeSince(since):\n",
        "    now = time.time()\n",
        "    s = now - since\n",
        "    m = math.floor(s / 60)\n",
        "    s -= m * 60\n",
        "    return '%dm %ds' % (m, s)"
      ]
    },
    {
      "cell_type": "markdown",
      "metadata": {
        "id": "Ol40urenK3Qu"
      },
      "source": [
        "## Learning rate schedulor"
      ]
    },
    {
      "cell_type": "code",
      "execution_count": 18,
      "metadata": {
        "id": "bgx6ES1_PiN4",
        "colab": {
          "base_uri": "https://localhost:8080/",
          "height": 489
        },
        "outputId": "f20c0f96-9845-41dd-9de1-d56c9db29257"
      },
      "outputs": [
        {
          "output_type": "execute_result",
          "data": {
            "text/plain": [
              "Text(0.5, 1.0, 'Cosine Scheduler')"
            ]
          },
          "metadata": {},
          "execution_count": 18
        },
        {
          "output_type": "display_data",
          "data": {
            "text/plain": [
              "<Figure size 640x480 with 1 Axes>"
            ],
            "image/png": "[encoded data removed]"
          },
          "metadata": {}
        }
      ],
      "source": [
        "# credit: https://d2l.ai/chapter_optimization/lr-scheduler.html\n",
        "class CosineScheduler:\n",
        "    def __init__(self, max_update, base_lr=0.01, final_lr=0,\n",
        "               warmup_steps=0, warmup_begin_lr=0):\n",
        "        self.base_lr_orig = base_lr\n",
        "        self.max_update = max_update\n",
        "        self.final_lr = final_lr\n",
        "        self.warmup_steps = warmup_steps\n",
        "        self.warmup_begin_lr = warmup_begin_lr\n",
        "        self.max_steps = self.max_update - self.warmup_steps\n",
        "\n",
        "    def get_warmup_lr(self, epoch):\n",
        "        increase = (self.base_lr_orig - self.warmup_begin_lr) \\\n",
        "                       * float(epoch) / float(self.warmup_steps)\n",
        "        return self.warmup_begin_lr + increase\n",
        "\n",
        "    def __call__(self, epoch):\n",
        "        if epoch < self.warmup_steps:\n",
        "            return self.get_warmup_lr(epoch)\n",
        "        if epoch <= self.max_update:\n",
        "            self.base_lr = self.final_lr + (\n",
        "                self.base_lr_orig - self.final_lr) * (1 + math.cos(\n",
        "                math.pi * (epoch - self.warmup_steps) / self.max_steps)) / 2\n",
        "        return self.base_lr\n",
        "\n",
        "scheduler = CosineScheduler(max_update=50, base_lr=0.3, final_lr=0.001)\n",
        "num_epochs = 50\n",
        "sch = [scheduler(t) for t in range(num_epochs)]\n",
        "xtrain = np.arange(num_epochs)\n",
        "plt.plot(xtrain, sch)\n",
        "plt.xlabel(\"Epochs\")\n",
        "plt.ylabel(\"Learning Rate\")\n",
        "plt.title(\"Cosine Scheduler\")\n"
      ]
    },
    {
      "cell_type": "markdown",
      "metadata": {
        "id": "VbY17T_cLELe"
      },
      "source": [
        "## Model Definitions"
      ]
    },
    {
      "cell_type": "code",
      "execution_count": 19,
      "metadata": {
        "id": "5C3hgDlzTwna",
        "colab": {
          "base_uri": "https://localhost:8080/"
        },
        "outputId": "49a76ac0-4ce1-4d39-e909-33b8c5f99272"
      },
      "outputs": [
        {
          "output_type": "stream",
          "name": "stdout",
          "text": [
            "Using cuda device\n"
          ]
        }
      ],
      "source": [
        "device = 'cuda' if torch.cuda.is_available() else 'cpu'\n",
        "print('Using {} device'.format(device))"
      ]
    },
    {
      "cell_type": "code",
      "execution_count": 20,
      "metadata": {
        "id": "y9YK7_zoTxq9"
      },
      "outputs": [],
      "source": [
        "class ZhZhAutoencoderTW(nn.Module):\n",
        "    \"\"\"\n",
        "    Autoencoder to learn the weights connecting Chinese\n",
        "    embeddings back to one-hot vectors. Initialize the\n",
        "    weights connecting the embeddings and one-hot vectors\n",
        "    with the transpose of the weights from the Tecent\n",
        "    pretrained model, connecting the one-hot vector and\n",
        "    embedding, to speed up training.\n",
        "    \"\"\"\n",
        "    def __init__(self, pretrained, vocab):\n",
        "        super(ZhZhAutoencoderTW, self).__init__()\n",
        "\n",
        "        # Save the pretrained embedding within the model\n",
        "        # load pretrained embeddings and freeze them\n",
        "        self.weights    = torch.FloatTensor(pretrained.vectors)\n",
        "        self.encoder    = nn.Embedding.from_pretrained(self.weights, freeze = True)\n",
        "\n",
        "        # Make a copy of the pretrained weights and use them in the following layers\n",
        "        copy_pretrained = copy.deepcopy(pretrained)\n",
        "        self.copyweight = torch.FloatTensor(copy_pretrained.vectors)\n",
        "        self.decoder    = nn.Parameter(self.copyweight.t())\n",
        "        self.vocab      = vocab\n",
        "\n",
        "    def forward(self, text):\n",
        "        \"\"\"The pipeline that takes input values through the network\"\"\"\n",
        "        # Find the embeddings for text\n",
        "        trained_embed = self.encoder(text)\n",
        "\n",
        "        # Turn embedding back to one-hot\n",
        "        one_hot       = trained_embed @ self.decoder\n",
        "\n",
        "        return one_hot"
      ]
    },
    {
      "cell_type": "code",
      "execution_count": 21,
      "metadata": {
        "id": "KP2S76SWPnnQ"
      },
      "outputs": [],
      "source": [
        "# Autoencoder to learn the weights connecting embeddings back to one-hot vectors\n",
        "class EnZhAutoencoderNonHidden(nn.Module):\n",
        "\n",
        "    def __init__(self, pretrained_en, pretrained_zh, vocab_en, vocab_zh):\n",
        "        super(EnZhAutoencoderNonHidden, self).__init__()\n",
        "\n",
        "        # Save the pretrained English embedding from Tencent within the model\n",
        "        # load pretrained embeddings and freeze them\n",
        "        self.weights_en = torch.FloatTensor(pretrained_en.vectors)\n",
        "        self.encoder    = nn.Embedding.from_pretrained(self.weights_en, freeze = True)\n",
        "\n",
        "        # Load the pretrained weights from zhzhautoencoder\n",
        "        # Use the pretrained weights to map Chinese embedding to one-hot\n",
        "        # ***** use the tranpose!!!\n",
        "        self.zh_weights = pretrained_zh\n",
        "        self.decoder    = nn.Parameter(self.zh_weights, requires_grad=False)\n",
        "\n",
        "        # Load the Chinese & English vocab\n",
        "        self.vocab_en   = vocab_en\n",
        "        self.vocab_zh   = vocab_zh\n",
        "\n",
        "        # Weights for English to Chinese embeddings\n",
        "        self.entozh = nn.Linear(100, 100)\n",
        "\n",
        "    def forward(self, text):\n",
        "        \"\"\"The pipeline that takes input values through the network\"\"\"\n",
        "        # Find the English embedding\n",
        "        eng_emb = self.encoder(text)\n",
        "\n",
        "        # Pass the English embedding through hidden layer\n",
        "        # zh_emb  = self.hidden(eng_emb) # torch.Size([256, 100])\n",
        "\n",
        "        # Find the corresponding index of Chinese word for\n",
        "        # the English embedding decoder: torch.Size([100, 2000000])\n",
        "        zh_emb = self.entozh(eng_emb)\n",
        "\n",
        "        one_hot = zh_emb @ self.decoder\n",
        "\n",
        "        return one_hot"
      ]
    },
    {
      "cell_type": "code",
      "execution_count": 22,
      "metadata": {
        "id": "iVa1-sMupC75"
      },
      "outputs": [],
      "source": [
        "def train(model, file, modelFilePath, num_epochs, optimizer, criterion):\n",
        "    # Training\n",
        "    avg_loss = []\n",
        "    losses = 0\n",
        "    start = time.time()\n",
        "    print(\"Start Batch Size =\", batch_size, file=open(file, 'a'))\n",
        "\n",
        "    for epoch in range(num_epochs):\n",
        "        losses = 0\n",
        "        correct_test = 0\n",
        "        total_test = 0\n",
        "        accuracy_test = []\n",
        "        for i, (en_index, zh_index) in enumerate(train_dataloader):\n",
        "            # Clear gradients w.r.t. parameters\n",
        "            optimizer.zero_grad()\n",
        "\n",
        "            # Move inputs & outputs to cuda\n",
        "            en_index = en_index.to(device)\n",
        "            zh_index = zh_index.to(device)\n",
        "\n",
        "            # Forward pass to get output/logits\n",
        "            outputs_train = model(en_index)\n",
        "\n",
        "            # Get predictions from the maximum value\n",
        "            prob = TF.softmax(outputs_train, dim=1)\n",
        "            # top_three = torch.topk(prob, 3, dim=1).indices\n",
        "            # # print(top_three)\n",
        "            index = torch.argmax(prob, dim=1)\n",
        "            # print(index)\n",
        "\n",
        "\n",
        "            # Total number of labels\n",
        "            total_test += en_index.size(0)\n",
        "\n",
        "            # Total correct predictions\n",
        "            # correct = zh_index.tolist()\n",
        "            # preds = top_three.tolist()\n",
        "\n",
        "            # for i in range(len(preds)):\n",
        "            #     if correct[i] in preds[i]:\n",
        "            #         correct_test += 1\n",
        "\n",
        "            correct_test += torch.sum(index==zh_index).item()\n",
        "\n",
        "            # Calculate Loss: softmax --> cross entropy loss\n",
        "            loss = criterion(outputs_train, zh_index)\n",
        "            losses += loss.item()\n",
        "\n",
        "            # Getting gradients w.r.t. parameters\n",
        "            loss.backward()\n",
        "\n",
        "            # Updating parameters\n",
        "            optimizer.step()\n",
        "\n",
        "        print(correct_test)\n",
        "        print(total_test)\n",
        "        cur_accuracy = 100 * correct_test / total_test\n",
        "        accuracy_test.append(cur_accuracy)\n",
        "        print(f'Training accuracy at epoch {epoch}: %.15f' % (cur_accuracy))\n",
        "\n",
        "        avg = losses / len(train_dataloader.dataset)\n",
        "        avg_loss.append(avg)\n",
        "\n",
        "        # Test the model every 10 epochs\n",
        "        if epoch % 10 == 0 or epoch==49:\n",
        "            test(model, file)\n",
        "            model.train()\n",
        "            torch.save(model.state_dict(), f\"/content/drive/MyDrive/LING111 autoencoder/enzh_nonhidden {epoch}.pt\")\n",
        "\n",
        "        for param_group in optimizer.param_groups:\n",
        "            param_group['lr'] = scheduler(epoch)\n",
        "            print(\"Learning rate is now\", param_group['lr'])\n",
        "\n",
        "        print('%s (%d %d%%) %.15f' % (timeSince(start), epoch, epoch / num_epochs * 100, avg))\n",
        "        torch.save(model.state_dict(), modelFilePath)\n",
        "\n",
        "    print(\"Finish training!\")\n",
        "    return avg_loss\n",
        "\n",
        "def test(model, file):\n",
        "    correct_test = 0\n",
        "    total_test = 0\n",
        "    accuracy_test = []\n",
        "\n",
        "    model.eval()\n",
        "    with torch.no_grad():\n",
        "        # Iterate through test dataset\n",
        "        for i, (en_index, zh_index) in enumerate(test_dataloader):\n",
        "\n",
        "            # Move inputs & outputs to cuda\n",
        "            en_index = en_index.to(device)\n",
        "            zh_index = zh_index.to(device)\n",
        "\n",
        "            # Forward pass only to get logits/output\n",
        "            outputs_test = model(en_index)\n",
        "\n",
        "            # Get predictions from the maximum value\n",
        "            prob = TF.softmax(outputs_test, dim=1)\n",
        "            # top_three = torch.topk(prob, 3).indices\n",
        "            index = torch.argmax(prob, dim=1)\n",
        "\n",
        "            # print(top_three)\n",
        "            # print(index)\n",
        "\n",
        "            # correct = zh_index.tolist()\n",
        "            # preds = top_three.tolist()\n",
        "\n",
        "            # for i in range(len(preds)):\n",
        "            #     if correct[i] in preds[i]:\n",
        "            #         correct_test += 1\n",
        "\n",
        "            # Total number of labels\n",
        "            total_test += en_index.size(0)\n",
        "\n",
        "            # Total correct predictions\n",
        "\n",
        "            correct_test += torch.sum(index==zh_index).item()\n",
        "        cur_accuracy = 100 * correct_test / total_test\n",
        "        accuracy_test.append(cur_accuracy)\n",
        "        # Print Loss\n",
        "        print('Test accuracy: %.15f' % (cur_accuracy))\n",
        "\n",
        "        return  accuracy_test"
      ]
    },
    {
      "cell_type": "code",
      "execution_count": 23,
      "metadata": {
        "id": "CPYUeFaxViCw",
        "colab": {
          "base_uri": "https://localhost:8080/"
        },
        "outputId": "ec35fb66-b4da-4268-b2e2-db4ccd854c84"
      },
      "outputs": [
        {
          "output_type": "execute_result",
          "data": {
            "text/plain": [
              "<All keys matched successfully>"
            ]
          },
          "metadata": {},
          "execution_count": 23
        }
      ],
      "source": [
        "model_zhzh = ZhZhAutoencoderTW(wv_from_text_zh, vocab_zh).to(device)\n",
        "model_zhzh_weight = torch.load('/content/drive/MyDrive/LING111 autoencoder/ling111_project_wt.pt', map_location='cuda:0')\n",
        "model_zhzh.load_state_dict(model_zhzh_weight)"
      ]
    },
    {
      "cell_type": "code",
      "execution_count": 24,
      "metadata": {
        "colab": {
          "base_uri": "https://localhost:8080/"
        },
        "id": "k5cDrAKhLOF3",
        "outputId": "91331b78-2661-407e-f42c-f3100f46ae9a"
      },
      "outputs": [
        {
          "output_type": "stream",
          "name": "stdout",
          "text": [
            "The weights in the ZhZhAutoencoderTW model are odict_keys(['decoder', 'encoder.weight'])\n"
          ]
        }
      ],
      "source": [
        "# Extract the decoder weights to use in the final autoencoder\n",
        "print(\"The weights in the ZhZhAutoencoderTW model are\", model_zhzh.state_dict().keys())"
      ]
    },
    {
      "cell_type": "code",
      "execution_count": 25,
      "metadata": {
        "id": "WX9OZ0zPV-Wx"
      },
      "outputs": [],
      "source": [
        "model_enzh_decoder = model_zhzh.decoder.clone()\n",
        "model_enzh = EnZhAutoencoderNonHidden(wv_from_text_en, model_enzh_decoder, vocab_en, vocab_zh).to(device)"
      ]
    },
    {
      "cell_type": "code",
      "source": [
        "print(\"The weights in the EnZhAutoencoder model are\", model_enzh.state_dict().keys())"
      ],
      "metadata": {
        "colab": {
          "base_uri": "https://localhost:8080/"
        },
        "id": "DFhB7WwokzoV",
        "outputId": "a10c24e0-b3bb-4d4a-8994-945bce2477a3"
      },
      "execution_count": 26,
      "outputs": [
        {
          "output_type": "stream",
          "name": "stdout",
          "text": [
            "The weights in the EnZhAutoencoder model are odict_keys(['decoder', 'encoder.weight', 'entozh.weight', 'entozh.bias'])\n"
          ]
        }
      ]
    },
    {
      "cell_type": "code",
      "execution_count": 27,
      "metadata": {
        "id": "TaeFKCz4u5FR"
      },
      "outputs": [],
      "source": [
        "criterion = nn.CrossEntropyLoss()\n",
        "optimizer = torch.optim.Adam(model_enzh.parameters(), lr=0.3)"
      ]
    },
    {
      "cell_type": "code",
      "execution_count": 28,
      "metadata": {
        "colab": {
          "base_uri": "https://localhost:8080/"
        },
        "id": "Jl5zAX6DREh1",
        "outputId": "0a3d4b9b-f106-4217-ca1b-f7fc334ab8a9"
      },
      "outputs": [
        {
          "output_type": "stream",
          "name": "stdout",
          "text": [
            "14\n",
            "6188\n",
            "Training accuracy at epoch 0: 0.226244343891403\n",
            "Test accuracy: 0.634765625000000\n",
            "Learning rate is now 0.3\n",
            "0m 46s (0 0%) 28.978229752030771\n",
            "28\n",
            "6188\n",
            "Training accuracy at epoch 1: 0.452488687782805\n",
            "Learning rate is now 0.2997049959000266\n",
            "1m 29s (1 2%) 17.513057124329599\n",
            "39\n",
            "6188\n",
            "Training accuracy at epoch 2: 0.630252100840336\n",
            "Learning rate is now 0.2988211478465144\n",
            "1m 45s (2 4%) 17.476475977635644\n",
            "39\n",
            "6188\n",
            "Training accuracy at epoch 3: 0.630252100840336\n",
            "Learning rate is now 0.297351943983939\n",
            "1m 58s (3 6%) 17.203536543448511\n",
            "31\n",
            "6188\n",
            "Training accuracy at epoch 4: 0.500969618616677\n",
            "Learning rate is now 0.29530318258873034\n",
            "2m 12s (4 8%) 17.893707452933096\n",
            "32\n",
            "6188\n",
            "Training accuracy at epoch 5: 0.517129928894635\n",
            "Learning rate is now 0.2926829491861255\n",
            "2m 31s (5 10%) 18.220393372568378\n",
            "41\n",
            "6188\n",
            "Training accuracy at epoch 6: 0.662572721396251\n",
            "Learning rate is now 0.2895015846402936\n",
            "2m 51s (6 12%) 17.666137281046733\n",
            "27\n",
            "6188\n",
            "Training accuracy at epoch 7: 0.436328377504848\n",
            "Learning rate is now 0.2857716443436699\n",
            "3m 3s (7 14%) 17.669321327727303\n",
            "24\n",
            "6188\n",
            "Training accuracy at epoch 8: 0.387847446670976\n",
            "Learning rate is now 0.2815078486665576\n",
            "3m 17s (8 16%) 17.657213483537948\n",
            "48\n",
            "6188\n",
            "Training accuracy at epoch 9: 0.775694893341952\n",
            "Learning rate is now 0.27672702486255124\n",
            "3m 36s (9 18%) 17.359585052470507\n",
            "32\n",
            "6188\n",
            "Training accuracy at epoch 10: 0.517129928894635\n",
            "Test accuracy: 0.341796875000000\n",
            "Learning rate is now 0.27144804065905465\n",
            "4m 39s (10 20%) 17.011320443329076\n",
            "40\n",
            "6188\n",
            "Training accuracy at epoch 11: 0.646412411118294\n",
            "Learning rate is now 0.26569172979498046\n",
            "4m 55s (11 22%) 16.776038832562772\n",
            "31\n",
            "6188\n",
            "Training accuracy at epoch 12: 0.500969618616677\n",
            "Learning rate is now 0.259480809799501\n",
            "5m 10s (12 24%) 16.675249549752294\n",
            "38\n",
            "6188\n",
            "Training accuracy at epoch 13: 0.614091790562379\n",
            "Learning rate is now 0.25283979233633896\n",
            "5m 25s (13 26%) 16.288980061112486\n",
            "36\n",
            "6188\n",
            "Training accuracy at epoch 14: 0.581771170006464\n",
            "Learning rate is now 0.2457948864674291\n",
            "5m 40s (14 28%) 15.768803582317844\n",
            "32\n",
            "6188\n",
            "Training accuracy at epoch 15: 0.517129928894635\n",
            "Learning rate is now 0.23837389521772476\n",
            "5m 59s (15 30%) 15.597902501407715\n",
            "21\n",
            "6188\n",
            "Training accuracy at epoch 16: 0.339366515837104\n",
            "Learning rate is now 0.23060610584935998\n",
            "6m 11s (16 32%) 15.247248367871789\n",
            "34\n",
            "6188\n",
            "Training accuracy at epoch 17: 0.549450549450549\n",
            "Learning rate is now 0.22252217427820642\n",
            "6m 25s (17 34%) 14.183734797629990\n",
            "38\n",
            "6188\n",
            "Training accuracy at epoch 18: 0.614091790562379\n",
            "Learning rate is now 0.21415400408897836\n",
            "6m 50s (18 36%) 14.267571319205267\n",
            "26\n",
            "6188\n",
            "Training accuracy at epoch 19: 0.420168067226891\n",
            "Learning rate is now 0.20553462062635938\n",
            "7m 6s (19 38%) 13.608685878761060\n",
            "33\n",
            "6188\n",
            "Training accuracy at epoch 20: 0.533290239172592\n",
            "Test accuracy: 0.097656250000000\n",
            "Learning rate is now 0.19669804065905463\n",
            "8m 14s (20 40%) 12.905972027670744\n",
            "40\n",
            "6188\n",
            "Training accuracy at epoch 21: 0.646412411118294\n",
            "Learning rate is now 0.18767913813114576\n",
            "8m 29s (21 42%) 12.618132361305399\n",
            "36\n",
            "6188\n",
            "Training accuracy at epoch 22: 0.581771170006464\n",
            "Learning rate is now 0.17851350653056586\n",
            "8m 41s (22 44%) 12.016087004964245\n",
            "32\n",
            "6188\n",
            "Training accuracy at epoch 23: 0.517129928894635\n",
            "Learning rate is now 0.16923731841786352\n",
            "9m 1s (23 46%) 11.508932911355648\n",
            "33\n",
            "6188\n",
            "Training accuracy at epoch 24: 0.533290239172592\n",
            "Learning rate is now 0.15988718266963237\n",
            "9m 13s (24 48%) 11.007679540415927\n",
            "29\n",
            "6188\n",
            "Training accuracy at epoch 25: 0.468648998060763\n",
            "Learning rate is now 0.1505\n",
            "9m 25s (25 50%) 10.339836944205267\n",
            "48\n",
            "6188\n",
            "Training accuracy at epoch 26: 0.775694893341952\n",
            "Learning rate is now 0.14111281733036765\n",
            "9m 41s (26 52%) 9.836682626025169\n",
            "36\n",
            "6188\n",
            "Training accuracy at epoch 27: 0.581771170006464\n",
            "Learning rate is now 0.13176268158213653\n",
            "9m 59s (27 54%) 9.063257987990870\n",
            "40\n",
            "6188\n",
            "Training accuracy at epoch 28: 0.646412411118294\n",
            "Learning rate is now 0.12248649346943417\n",
            "10m 11s (28 56%) 8.709281512052687\n",
            "33\n",
            "6188\n",
            "Training accuracy at epoch 29: 0.533290239172592\n",
            "Learning rate is now 0.11332086186885419\n",
            "10m 31s (29 57%) 7.874296458367001\n",
            "31\n",
            "6188\n",
            "Training accuracy at epoch 30: 0.500969618616677\n",
            "Test accuracy: 0.537109375000000\n",
            "Learning rate is now 0.1043019593409454\n",
            "11m 19s (30 60%) 7.474114238637913\n",
            "37\n",
            "6188\n",
            "Training accuracy at epoch 31: 0.597931480284421\n",
            "Learning rate is now 0.09546537937364068\n",
            "11m 37s (31 62%) 6.720215297469649\n",
            "35\n",
            "6188\n",
            "Training accuracy at epoch 32: 0.565610859728507\n",
            "Learning rate is now 0.08684599591102163\n",
            "11m 53s (32 64%) 6.180303424423405\n",
            "28\n",
            "6188\n",
            "Training accuracy at epoch 33: 0.452488687782805\n",
            "Learning rate is now 0.07847782572179354\n",
            "12m 8s (33 66%) 5.715342614753984\n",
            "37\n",
            "6188\n",
            "Training accuracy at epoch 34: 0.597931480284421\n",
            "Learning rate is now 0.07039389415063997\n",
            "12m 31s (34 68%) 5.283311544269150\n",
            "28\n",
            "6188\n",
            "Training accuracy at epoch 35: 0.452488687782805\n",
            "Learning rate is now 0.06262610478227527\n",
            "12m 44s (35 70%) 4.682969520534326\n",
            "43\n",
            "6188\n",
            "Training accuracy at epoch 36: 0.694893341952165\n",
            "Learning rate is now 0.05520511353257088\n",
            "13m 1s (36 72%) 4.215640624723823\n",
            "37\n",
            "6188\n",
            "Training accuracy at epoch 37: 0.597931480284421\n",
            "Learning rate is now 0.04816020766366103\n",
            "13m 21s (37 74%) 3.596941478805690\n",
            "38\n",
            "6188\n",
            "Training accuracy at epoch 38: 0.614091790562379\n",
            "Learning rate is now 0.041519190200499004\n",
            "13m 36s (38 76%) 3.208565739716109\n",
            "46\n",
            "6188\n",
            "Training accuracy at epoch 39: 0.743374272786038\n",
            "Learning rate is now 0.035308270205019525\n",
            "13m 51s (39 78%) 2.807164833941765\n",
            "43\n",
            "6188\n",
            "Training accuracy at epoch 40: 0.694893341952165\n",
            "Test accuracy: 0.537109375000000\n",
            "Learning rate is now 0.029551959340945372\n",
            "14m 42s (40 80%) 2.384414396674385\n",
            "38\n",
            "6188\n",
            "Training accuracy at epoch 41: 0.614091790562379\n",
            "Learning rate is now 0.02427297513744878\n",
            "14m 55s (41 82%) 2.067308473987739\n",
            "49\n",
            "6188\n",
            "Training accuracy at epoch 42: 0.791855203619909\n",
            "Learning rate is now 0.019492151333442394\n",
            "15m 10s (42 84%) 1.696484447989683\n",
            "40\n",
            "6188\n",
            "Training accuracy at epoch 43: 0.646412411118294\n",
            "Learning rate is now 0.015228355656330107\n",
            "15m 25s (43 86%) 1.378694106473719\n",
            "53\n",
            "6188\n",
            "Training accuracy at epoch 44: 0.856496444731739\n",
            "Learning rate is now 0.011498415359706422\n",
            "15m 40s (44 88%) 1.073359274293965\n",
            "56\n",
            "6188\n",
            "Training accuracy at epoch 45: 0.904977375565611\n",
            "Learning rate is now 0.008317050813874547\n",
            "15m 56s (45 90%) 0.843500343229051\n",
            "60\n",
            "6188\n",
            "Training accuracy at epoch 46: 0.969618616677440\n",
            "Learning rate is now 0.005696817411269671\n",
            "16m 11s (46 92%) 0.642128461703379\n",
            "52\n",
            "6188\n",
            "Training accuracy at epoch 47: 0.840336134453782\n",
            "Learning rate is now 0.003648056016061036\n",
            "16m 26s (47 94%) 0.475819817033212\n",
            "75\n",
            "6188\n",
            "Training accuracy at epoch 48: 1.212023270846800\n",
            "Learning rate is now 0.0021788521534855743\n",
            "16m 41s (48 96%) 0.358904671499478\n",
            "85\n",
            "6188\n",
            "Training accuracy at epoch 49: 1.373626373626374\n",
            "Test accuracy: 0.781250000000000\n",
            "Learning rate is now 0.001295004099973402\n",
            "17m 12s (49 98%) 0.276827392997323\n",
            "Finish training!\n"
          ]
        },
        {
          "output_type": "execute_result",
          "data": {
            "text/plain": [
              "[28.97822975203077,\n",
              " 17.5130571243296,\n",
              " 17.476475977635644,\n",
              " 17.20353654344851,\n",
              " 17.893707452933096,\n",
              " 18.220393372568378,\n",
              " 17.666137281046733,\n",
              " 17.669321327727303,\n",
              " 17.657213483537948,\n",
              " 17.359585052470507,\n",
              " 17.011320443329076,\n",
              " 16.776038832562772,\n",
              " 16.675249549752294,\n",
              " 16.288980061112486,\n",
              " 15.768803582317844,\n",
              " 15.597902501407715,\n",
              " 15.247248367871789,\n",
              " 14.18373479762999,\n",
              " 14.267571319205267,\n",
              " 13.60868587876106,\n",
              " 12.905972027670744,\n",
              " 12.618132361305399,\n",
              " 12.016087004964245,\n",
              " 11.508932911355648,\n",
              " 11.007679540415927,\n",
              " 10.339836944205267,\n",
              " 9.83668262602517,\n",
              " 9.06325798799087,\n",
              " 8.709281512052687,\n",
              " 7.8742964583670005,\n",
              " 7.474114238637913,\n",
              " 6.7202152974696485,\n",
              " 6.180303424423405,\n",
              " 5.715342614753984,\n",
              " 5.28331154426915,\n",
              " 4.682969520534326,\n",
              " 4.2156406247238225,\n",
              " 3.59694147880569,\n",
              " 3.208565739716109,\n",
              " 2.8071648339417647,\n",
              " 2.384414396674385,\n",
              " 2.0673084739877394,\n",
              " 1.6964844479896826,\n",
              " 1.3786941064737193,\n",
              " 1.0733592742939648,\n",
              " 0.843500343229051,\n",
              " 0.6421284617033788,\n",
              " 0.47581981703321163,\n",
              " 0.35890467149947797,\n",
              " 0.2768273929973225]"
            ]
          },
          "metadata": {},
          "execution_count": 28
        }
      ],
      "source": [
        "train(model_enzh, '/content/drive/MyDrive/LING111 autoencoder/enzhautoencoder.txt', '/content/drive/MyDrive/LING111 autoencoder/enzh_nonhidden_weights.pt', 50, optimizer, criterion)"
      ]
    },
    {
      "cell_type": "code",
      "source": [
        "type(word_to_index_en[\"can\"])"
      ],
      "metadata": {
        "colab": {
          "base_uri": "https://localhost:8080/"
        },
        "id": "DvKItkEWUFiS",
        "outputId": "36bcadf6-fe7e-4cdd-a777-dae8f8716720"
      },
      "execution_count": 36,
      "outputs": [
        {
          "output_type": "execute_result",
          "data": {
            "text/plain": [
              "int"
            ]
          },
          "metadata": {},
          "execution_count": 36
        }
      ]
    },
    {
      "cell_type": "markdown",
      "source": [
        "## Testing the performance of the model"
      ],
      "metadata": {
        "id": "AQlckKLeSPZa"
      }
    },
    {
      "cell_type": "code",
      "source": [
        "# We want to test the model on different word groups\n",
        "# This will let us investigate what kinds of senses the model prefers\n",
        "# as well as how the model is performing in general across word classes\n",
        "\n",
        "# Words that could be nouns but also verbs\n",
        "nounverbs = [\"walk\", \"fly\", \"bat\", \"spring\", \"can\"]\n",
        "\n",
        "# Concrete words\n",
        "concrete = [\"glass\", \"shirt\", \"house\", \"blood\", \"flower\"]\n",
        "\n",
        "# Emotion words\n",
        "emotion = [\"love\", \"hate\", \"happy\", \"confused\", \"angry\"]\n",
        "\n",
        "# Abstract words\n",
        "abstract = [\"democracy\", \"peace\", \"death\", \"fact\", \"being\"]\n",
        "\n",
        "nounverbs_en = []\n",
        "for word in nounverbs:\n",
        "    nounverbs_en.append(word_to_index_en[word])\n",
        "\n",
        "nounverbs_en = torch.tensor(nounverbs_en).to(torch.int64)\n",
        "\n",
        "concrete_en = []\n",
        "for word in concrete:\n",
        "    concrete_en.append(word_to_index_en[word])\n",
        "\n",
        "concrete_en = torch.tensor(concrete_en).to(torch.int64)\n",
        "\n",
        "emotion_en = []\n",
        "for word in emotion:\n",
        "    emotion_en.append(word_to_index_en[word])\n",
        "\n",
        "emotion_en = torch.tensor(emotion_en).to(torch.int64)\n",
        "\n",
        "abstract_en = []\n",
        "for word in abstract:\n",
        "    abstract_en.append(word_to_index_en[word])\n",
        "\n",
        "abstract_en = torch.tensor(abstract_en).to(torch.int64)\n",
        "\n",
        "\n",
        "# maybe different noun/verb classes, or conjunctions?\n",
        "\n",
        "nounclass1 = [\"dog\", \"cat\", \"bird\", \"snake\", \"cow\"]\n",
        "nounclass2 = [\"fire\", \"water\", \"ice\", \"earth\", \"wind\"]\n",
        "verbclass1 = [\"run\", \"jump\", \"swim\", \"speak\", \"talk\"]\n",
        "verbclass2 = [\"be\", \"like\", \"have\", \"do\", \"exist\"]\n",
        "conjunctions = [\"and\", \"but\", \"or\", \"not\", \"both\"]\n",
        "\n",
        "\n",
        "nounclass1_en = []\n",
        "for word in nounclass1:\n",
        "    nounclass1_en.append(word_to_index_en[word])\n",
        "\n",
        "nounclass1_en = torch.tensor(nounclass1_en).to(torch.int64)\n",
        "\n",
        "nounclass2_en = []\n",
        "for word in nounclass2:\n",
        "    nounclass2_en.append(word_to_index_en[word])\n",
        "\n",
        "nounclass2_en = torch.tensor(nounclass2_en).to(torch.int64)\n",
        "\n",
        "verbclass1_en = []\n",
        "for word in verbclass1:\n",
        "    verbclass1_en.append(word_to_index_en[word])\n",
        "\n",
        "verbclass1_en = torch.tensor(verbclass1_en).to(torch.int64)\n",
        "verbclass2_en = []\n",
        "for word in verbclass2:\n",
        "    verbclass2_en.append(word_to_index_en[word])\n",
        "\n",
        "verbclass2_en = torch.tensor(verbclass2_en).to(torch.int64)\n",
        "conjunctions_en = []\n",
        "for word in conjunctions:\n",
        "    conjunctions_en.append(word_to_index_en[word])\n",
        "\n",
        "conjunctions_en = torch.tensor(conjunctions_en).to(torch.int64)\n"
      ],
      "metadata": {
        "id": "l6LjJjNcSXYU"
      },
      "execution_count": 48,
      "outputs": []
    },
    {
      "cell_type": "code",
      "source": [
        "# Get model predictions for each of the groups\n",
        "\n",
        "nounverbs_output = model_enzh(nounverbs_en.to(device))\n",
        "concrete_output = model_enzh(concrete_en.to(device))\n",
        "emotion_output = model_enzh(emotion_en.to(device))\n",
        "abstract_output = model_enzh(abstract_en.to(device))\n",
        "nounclass1_output = model_enzh(nounclass1_en.to(device))\n",
        "nounclass2_output = model_enzh(nounclass2_en.to(device))\n",
        "verbclass1_output = model_enzh(verbclass1_en.to(device))\n",
        "verbclass2_output = model_enzh(verbclass2_en.to(device))\n",
        "conjunctions_output = model_enzh(conjunctions_en.to(device))"
      ],
      "metadata": {
        "id": "VM22-A-EUiIL"
      },
      "execution_count": 50,
      "outputs": []
    },
    {
      "cell_type": "code",
      "source": [
        "# Get index from model predictions\n",
        "\n",
        "nounverbs_index = torch.argmax(TF.softmax(nounverbs_output, dim=1), dim=1)\n",
        "concrete_index = torch.argmax(TF.softmax(concrete_output, dim=1), dim=1)\n",
        "emotion_index = torch.argmax(TF.softmax(emotion_output, dim=1), dim=1)\n",
        "abstract_index = torch.argmax(TF.softmax(abstract_output, dim=1), dim=1)\n",
        "\n",
        "nounclass1_index = torch.argmax(TF.softmax(nounclass1_output, dim=1), dim=1)\n",
        "nounclass2_index = torch.argmax(TF.softmax(nounclass2_output, dim=1), dim=1)\n",
        "verbclass1_index = torch.argmax(TF.softmax(verbclass1_output, dim=1), dim=1)\n",
        "verbclass2_index = torch.argmax(TF.softmax(verbclass2_output, dim=1), dim=1)\n",
        "conjunctions_index = torch.argmax(TF.softmax(conjunctions_output, dim=1), dim=1)"
      ],
      "metadata": {
        "id": "kdnbyEHFU6r7"
      },
      "execution_count": 51,
      "outputs": []
    },
    {
      "cell_type": "code",
      "source": [
        "for i, j in zip(nounverbs_en.tolist(), nounverbs_index.tolist()):\n",
        "    print(f\"{vocab_en[i]} & {vocab_zh[j]}\")\n",
        "\n",
        "for i, j in zip(concrete_en.tolist(), concrete_index.tolist()):\n",
        "    print(f\"{vocab_en[i]} & {vocab_zh[j]}\")\n",
        "\n",
        "for i, j in zip(emotion_en.tolist(), emotion_index.tolist()):\n",
        "    print(f\"{vocab_en[i]} & {vocab_zh[j]}\")\n",
        "\n",
        "for i, j in zip(abstract_en.tolist(), abstract_index.tolist()):\n",
        "    print(f\"{vocab_en[i]} & {vocab_zh[j]}\")\n",
        "\n",
        "for i, j in zip(nounclass1_en.tolist(), nounclass1_index.tolist()):\n",
        "    print(f\"{vocab_en[i]} & {vocab_zh[j]}\")\n",
        "\n",
        "for i, j in zip(nounclass2_en.tolist(), nounclass2_index.tolist()):\n",
        "    print(f\"{vocab_en[i]} & {vocab_zh[j]}\")\n",
        "\n",
        "for i, j in zip(verbclass1_en.tolist(), verbclass1_index.tolist()):\n",
        "    print(f\"{vocab_en[i]} & {vocab_zh[j]}\")\n",
        "\n",
        "for i, j in zip(verbclass2_en.tolist(), verbclass2_index.tolist()):\n",
        "    print(f\"{vocab_en[i]} & {vocab_zh[j]}\")\n",
        "\n",
        "for i, j in zip(conjunctions_en.tolist(), conjunctions_index.tolist()):\n",
        "    print(f\"{vocab_en[i]} & {vocab_zh[j]}\")\n"
      ],
      "metadata": {
        "colab": {
          "base_uri": "https://localhost:8080/"
        },
        "id": "7RRn_BJuVhHH",
        "outputId": "3d6cab76-0d2a-45fc-fbbb-783a7ed96f6b"
      },
      "execution_count": 52,
      "outputs": [
        {
          "output_type": "stream",
          "name": "stdout",
          "text": [
            "walk & 320路\n",
            "fly & 进\n",
            "bat & 糖稀\n",
            "spring & 3\n",
            "can & 需要\n",
            "glass & 新生彩票\n",
            "shirt & 衬衣\n",
            "house & 修械所\n",
            "blood & 血管\n",
            "flower & 蝴蝶\n",
            "love & 点开后\n",
            "hate & 小幅收涨\n",
            "happy & 目前的战绩\n",
            "confused & 回信息\n",
            "angry & 根本不认识\n",
            "democracy & 独裁国家\n",
            "peace & 门户\n",
            "death & 封神榜2\n",
            "fact & ·\n",
            "being & 二十七名\n",
            "dog & 战斗宠物\n",
            "cat & 好带\n",
            "bird & 鸟儿\n",
            "snake & 捕兽夹\n",
            "cow & 年总产值\n",
            "fire & 小学三年级日记300字\n",
            "water & ===\n",
            "ice & ===\n",
            "earth & 星球\n",
            "wind & 经济发展方式\n",
            "run & 进\n",
            "jump & 哪段\n",
            "swim & 高二日记二十篇\n",
            "speak & 看到\n",
            "talk & 500m\n",
            "be & 2.68\n",
            "like & 啊\n",
            "have & 两年\n",
            "do & 要说\n",
            "exist & 搞错\n",
            "and & 和\n",
            "but & 啊\n",
            "or & 只限于\n",
            "not & 3000\n",
            "both & 和\n"
          ]
        }
      ]
    }
  ],
  "metadata": {
    "colab": {
      "provenance": [],
      "gpuType": "T4"
    },
    "kernelspec": {
      "display_name": "Python 3",
      "name": "python3"
    },
    "language_info": {
      "name": "python"
    },
    "accelerator": "GPU"
  },
  "nbformat": 4,
  "nbformat_minor": 0
}