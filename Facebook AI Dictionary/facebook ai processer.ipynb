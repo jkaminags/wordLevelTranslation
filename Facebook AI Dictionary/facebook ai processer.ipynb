{
 "cells": [
  {
   "cell_type": "code",
   "execution_count": 10,
   "metadata": {},
   "outputs": [],
   "source": [
    "# quickly processing the facebook ai set\n",
    "import json\n",
    "\n",
    "# Reading in the original text file to a JSON dictionary\n",
    "fullDict = {}\n",
    "\n",
    "with open(\"en-zh.txt\", encoding=\"utf-8-sig\") as in_file:\n",
    "    for line in in_file:\n",
    "        (eng, chn) = line.strip().split()\n",
    "        if eng==chn: # For the case where the zh word equiv is in English\n",
    "            continue\n",
    "        if fullDict.get(eng) == None:\n",
    "            fullDict[eng] = [chn]\n",
    "        else:\n",
    "            fullDict[eng].append(chn)\n",
    "\n",
    "\n",
    "with open(\"processed enzhDict.json\", \"w\", encoding=\"utf-8-sig\") as out_file:\n",
    "    json.dump(fullDict, out_file, indent=4, ensure_ascii=False)"
   ]
  }
 ],
 "metadata": {
  "kernelspec": {
   "display_name": "Python 3",
   "language": "python",
   "name": "python3"
  },
  "language_info": {
   "codemirror_mode": {
    "name": "ipython",
    "version": 3
   },
   "file_extension": ".py",
   "mimetype": "text/x-python",
   "name": "python",
   "nbconvert_exporter": "python",
   "pygments_lexer": "ipython3",
   "version": "3.10.6"
  },
  "orig_nbformat": 4
 },
 "nbformat": 4,
 "nbformat_minor": 2
}
